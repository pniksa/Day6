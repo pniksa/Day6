{
 "cells": [
  {
   "cell_type": "code",
   "execution_count": 2,
   "metadata": {},
   "outputs": [],
   "source": [
    "taxinit = [(50_000, 0.08),(100_000, 0.1),(150_000, 0.15)]"
   ]
  },
  {
   "cell_type": "code",
   "execution_count": 3,
   "metadata": {},
   "outputs": [
    {
     "data": {
      "text/plain": [
       "[(50000, 0.08), (100000, 0.1), (150000, 0.15)]"
      ]
     },
     "execution_count": 3,
     "metadata": {},
     "output_type": "execute_result"
    }
   ],
   "source": [
    "taxinit"
   ]
  },
  {
   "cell_type": "code",
   "execution_count": 28,
   "metadata": {},
   "outputs": [],
   "source": [
    "def taxcalc(val, taxvec):\n",
    "    summ = 0\n",
    "    runv = val\n",
    "    if val < taxvec[0][0]:\n",
    "        return val * taxvec[0][1]\n",
    "    summ = taxvec[0][0] * taxvec[0][1]\n",
    "    runv = val - taxvec[0][0]\n",
    "    for idx, taxr in enumerate(taxvec):\n",
    "        if val > taxr[0] and idx > 0 and idx < len(taxvec) - 1:\n",
    "            summ += taxr[1] * (taxr[0]- taxvec[idx - 1][0])\n",
    "            runv -= taxr[0] - taxvec[idx - 1][0]\n",
    "        elif idx >0:\n",
    "            summ += taxr[1] * runv\n",
    "            return summ\n",
    "    return summ        "
   ]
  },
  {
   "cell_type": "code",
   "execution_count": 33,
   "metadata": {},
   "outputs": [
    {
     "data": {
      "text/plain": [
       "18000.0"
      ]
     },
     "execution_count": 33,
     "metadata": {},
     "output_type": "execute_result"
    }
   ],
   "source": [
    "taxcalc(160_000, taxinit)"
   ]
  },
  {
   "cell_type": "code",
   "execution_count": 34,
   "metadata": {},
   "outputs": [
    {
     "data": {
      "text/plain": [
       "18000.0"
      ]
     },
     "execution_count": 34,
     "metadata": {},
     "output_type": "execute_result"
    }
   ],
   "source": [
    "50_000 * 0.08 + 50_000 * 0.1 + 60_000 * 0.15"
   ]
  },
  {
   "cell_type": "code",
   "execution_count": 35,
   "metadata": {},
   "outputs": [],
   "source": [
    "def calculate(income, taxing_rules):\n",
    "    if income == 0 or len(taxing_rules) == 0:\n",
    "        return 0\n",
    "\n",
    "    # the left, lower boundary starting tuple\n",
    "    left_hand_tuple = (0, .0)\n",
    "    # the right, high boundary tuple\n",
    "    right_hand_tuple = None\n",
    "    tax_intervals = []\n",
    "    for right_hand_tuple in sorted(taxing_rules, key=lambda t: t[0]):\n",
    "        left_hand = left_hand_tuple[0]\n",
    "        right_hand = right_hand_tuple[0]\n",
    "        rate = right_hand_tuple[1]\n",
    "        if income > left_hand:\n",
    "            tax_intervals.append({\n",
    "                'taxable': right_hand - left_hand if income > right_hand else income - left_hand,\n",
    "                'rate': rate\n",
    "            })\n",
    "        left_hand_tuple = right_hand_tuple\n",
    "\n",
    "    # if there is an overflow from the highest income boundary\n",
    "    if right_hand_tuple is not None and income > right_hand_tuple[0]:\n",
    "        tax_intervals.append({'taxable': income - right_hand_tuple[0], 'rate': right_hand_tuple[1]})\n",
    "\n",
    "    return sum(map(lambda d: d['taxable'] * d['rate'], tax_intervals))"
   ]
  },
  {
   "cell_type": "code",
   "execution_count": 37,
   "metadata": {},
   "outputs": [
    {
     "data": {
      "text/plain": [
       "18000.0"
      ]
     },
     "execution_count": 37,
     "metadata": {},
     "output_type": "execute_result"
    }
   ],
   "source": [
    "calculate(160_000, taxinit)"
   ]
  },
  {
   "cell_type": "code",
   "execution_count": null,
   "metadata": {},
   "outputs": [],
   "source": []
  }
 ],
 "metadata": {
  "kernelspec": {
   "display_name": "Python 3",
   "language": "python",
   "name": "python3"
  },
  "language_info": {
   "codemirror_mode": {
    "name": "ipython",
    "version": 3
   },
   "file_extension": ".py",
   "mimetype": "text/x-python",
   "name": "python",
   "nbconvert_exporter": "python",
   "pygments_lexer": "ipython3",
   "version": "3.7.3"
  }
 },
 "nbformat": 4,
 "nbformat_minor": 2
}
